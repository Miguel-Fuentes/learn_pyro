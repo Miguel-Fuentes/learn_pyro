{
 "cells": [
  {
   "cell_type": "markdown",
   "metadata": {},
   "source": [
    "# Infer MLE Params\n",
    "Miguel Fuentes  \n",
    "Created: 5/3/2020  \n",
    "Last Updated: 5/4/2020"
   ]
  },
  {
   "cell_type": "code",
   "execution_count": 1,
   "metadata": {},
   "outputs": [],
   "source": [
    "%matplotlib inline\n",
    "from infection_models import sample_transmission\n",
    "\n",
    "from tqdm import tqdm\n",
    "from collections import namedtuple\n",
    "import matplotlib.pyplot as plt\n",
    "\n",
    "import torch\n",
    "from torch.distributions import constraints\n",
    "\n",
    "import pyro\n",
    "import pyro.infer\n",
    "import pyro.optim\n",
    "import pyro.distributions as dist\n",
    "from pyro import plate\n",
    "\n",
    "pyro.set_rng_seed(101)"
   ]
  },
  {
   "cell_type": "markdown",
   "metadata": {},
   "source": [
    "## Generate Data\n",
    "First, I'll sample from \"sample_transmission\". This model is fully defined so I know what distributions all the paramaters are set to and what all the latent variables are coming from. I will only record the protocol which was used and how many people the individual infected, not the two latent variables."
   ]
  },
  {
   "cell_type": "code",
   "execution_count": 2,
   "metadata": {},
   "outputs": [],
   "source": [
    "n = 1000\n",
    "data = []\n",
    "\n",
    "for _ in range(n):\n",
    "    protocol, contacted_people, infection_rate, num_infected = sample_transmission()\n",
    "    data.append((protocol, num_infected))"
   ]
  },
  {
   "cell_type": "markdown",
   "metadata": {},
   "source": [
    "## VI with Matching Guide\n",
    "First, I will run inference using a guide which has the same form as the actual model, I expect that this should work pretty well and converge to parameters which are equivalent to those for the data generating process"
   ]
  },
  {
   "cell_type": "code",
   "execution_count": 8,
   "metadata": {},
   "outputs": [],
   "source": [
    "M = 10\n",
    "\n",
    "def observe_transmission(data):\n",
    "    normal_contact_loc = torch.tensor(50.0)\n",
    "    normal_contact_scale = torch.tensor(10.0)\n",
    "    normal_conc0 = torch.tensor(10.0)\n",
    "    normal_conc1 = torch.tensor(10.0)\n",
    "\n",
    "    distance_contact_loc = torch.tensor(25.0)\n",
    "    distance_contact_scale = torch.tensor(5.0)\n",
    "    distance_conc0 = torch.tensor(10.0)\n",
    "    distance_conc1 = torch.tensor(10.0)\n",
    "\n",
    "    num_infected_scale = pyro.param('num_infected_scale', torch.tensor(5.0), constraint=constraints.positive)\n",
    "    \n",
    "    for i in pyro.plate(\"data_loop\", len(data), subsample_size=M):\n",
    "        protocol, num_infected = data[i]\n",
    "        if protocol == 'normal_behavior':\n",
    "            contacted_people = pyro.sample(f'contacted_people_{i}', pyro.distributions.Normal(normal_contact_loc, normal_contact_scale))\n",
    "            infection_rate = pyro.sample(f'infection_rate_{i}', pyro.distributions.Beta(normal_conc1, normal_conc0))\n",
    "        elif protocol == 'social_distancing':\n",
    "            contacted_people = pyro.sample(f'contacted_people_{i}', pyro.distributions.Normal(distance_contact_loc, distance_contact_scale))\n",
    "            infection_rate = pyro.sample(f'infection_rate_{i}', pyro.distributions.Beta(distance_conc1, distance_conc0))\n",
    "        else:\n",
    "            raise ValueError(f'Data point {i} has protocol value {protocol}, expects values \\'social_distancing\\' or \\'normal_behavior\\'')\n",
    "        num_infected_loc = contacted_people * infection_rate\n",
    "        num_infected = pyro.sample(f'num_infected_{i}', pyro.distributions.Normal(num_infected_loc, num_infected_scale), obs=num_infected)\n",
    "        \n",
    "def matching_guide(data):\n",
    "    q_normal_contact_loc = pyro.param('q_normal_contact_loc', torch.tensor(50.0), constraint=constraints.positive)\n",
    "    q_normal_contact_scale = pyro.param('q_normal_contact_scale', torch.tensor(10.0), constraint=constraints.positive)\n",
    "    q_normal_conc0 = pyro.param('q_normal_conc0', torch.tensor(10.0), constraint=constraints.positive)\n",
    "    q_normal_conc1 = pyro.param('q_normal_conc1', torch.tensor(10.0), constraint=constraints.positive)\n",
    "\n",
    "    q_distance_contact_loc = pyro.param('q_distance_contact_loc', torch.tensor(25.0), constraint=constraints.positive)\n",
    "    q_distance_contact_scale = pyro.param('q_distance_contact_scale', torch.tensor(5.0), constraint=constraints.positive)\n",
    "    q_distance_conc0 = pyro.param('q_distance_conc0', torch.tensor(10.0), constraint=constraints.positive)\n",
    "    q_distance_conc1 = pyro.param('q_distance_conc1', torch.tensor(10.0), constraint=constraints.positive)\n",
    "    \n",
    "    for i in pyro.plate(\"data_loop\", len(data), subsample_size=M):\n",
    "        protocol, num_infected = data[i]\n",
    "        if protocol == 'normal_behavior':\n",
    "            contacted_people = pyro.sample(f'contacted_people_{i}', pyro.distributions.Normal(q_normal_contact_loc, q_normal_contact_scale))\n",
    "            infection_rate = pyro.sample(f'infection_rate_{i}', pyro.distributions.Beta(q_normal_conc1, q_normal_conc0))\n",
    "        elif protocol == 'social_distancing':\n",
    "            contacted_people = pyro.sample(f'contacted_people_{i}', pyro.distributions.Normal(q_distance_contact_loc, q_distance_contact_scale))\n",
    "            infection_rate = pyro.sample(f'infection_rate_{i}', pyro.distributions.Beta(q_distance_conc1, q_distance_conc0))\n",
    "        else:\n",
    "            raise ValueError(f'Data point {i} has protocol value {protocol}, expects values \\'social_distancing\\' or \\'normal_behavior\\'')\n"
   ]
  },
  {
   "cell_type": "code",
   "execution_count": 9,
   "metadata": {},
   "outputs": [
    {
     "name": "stderr",
     "output_type": "stream",
     "text": [
      "100%|████████████████████████████████████████████████████████████████████████████████| 500/500 [00:07<00:00, 66.28it/s]\n"
     ]
    },
    {
     "data": {
      "text/plain": [
       "Text(0, 0.5, 'loss')"
      ]
     },
     "execution_count": 9,
     "metadata": {},
     "output_type": "execute_result"
    },
    {
     "data": {
      "image/png": "[encoded data removed]",
      "text/plain": [
       "<Figure size 432x288 with 1 Axes>"
      ]
     },
     "metadata": {
      "needs_background": "light"
     },
     "output_type": "display_data"
    }
   ],
   "source": [
    "pyro.clear_param_store()\n",
    "svi = pyro.infer.SVI(model=observe_transmission,\n",
    "                     guide=matching_guide,\n",
    "                     optim=pyro.optim.SGD({\"lr\": 0.001, \"momentum\":0.1}),\n",
    "                     loss=pyro.infer.Trace_ELBO())\n",
    "\n",
    "\n",
    "losses = []\n",
    "num_steps =500\n",
    "for _ in tqdm(range(num_steps)):\n",
    "    losses.append(svi.step(data))\n",
    "    \n",
    "\n",
    "plt.plot(losses)\n",
    "plt.title(\"ELBO\")\n",
    "plt.xlabel(\"step\")\n",
    "plt.ylabel(\"loss\")"
   ]
  },
  {
   "cell_type": "code",
   "execution_count": 6,
   "metadata": {},
   "outputs": [
    {
     "name": "stdout",
     "output_type": "stream",
     "text": [
      "q_normal_contact_loc:  nan\n",
      "q_normal_contact_scale:  nan\n",
      "q_normal_conc0:  nan\n",
      "q_normal_conc1:  nan\n",
      "q_distance_contact_loc:  nan\n",
      "q_distance_contact_scale:  nan\n",
      "q_distance_conc0:  nan\n",
      "q_distance_conc1:  nan\n",
      "num_infected_scale:  nan\n"
     ]
    }
   ],
   "source": [
    "print_params = [\n",
    "    'q_normal_contact_loc',\n",
    "    'q_normal_contact_scale',\n",
    "    'q_normal_conc0',\n",
    "    'q_normal_conc1',\n",
    "    'q_distance_contact_loc',\n",
    "    'q_distance_contact_scale',\n",
    "    'q_distance_conc0',\n",
    "    'q_distance_conc1',\n",
    "    'num_infected_scale',\n",
    "]\n",
    "for p in print_params:\n",
    "    print(f'{p}: ', pyro.param(p).item())"
   ]
  },
  {
   "cell_type": "code",
   "execution_count": 10,
   "metadata": {},
   "outputs": [
    {
     "data": {
      "text/plain": [
       "[4759.199417114258,\n",
       " 37309.2700881958,\n",
       " 65667.04272460938,\n",
       " 132938.2597808838,\n",
       " 36056.52862548828,\n",
       " 188423.11514282227,\n",
       " nan,\n",
       " nan,\n",
       " nan,\n",
       " nan]"
      ]
     },
     "execution_count": 10,
     "metadata": {},
     "output_type": "execute_result"
    }
   ],
   "source": [
    "losses[:10]"
   ]
  },
  {
   "cell_type": "code",
   "execution_count": null,
   "metadata": {},
   "outputs": [],
   "source": []
  }
 ],
 "metadata": {
  "kernelspec": {
   "display_name": "Python 3",
   "language": "python",
   "name": "python3"
  },
  "language_info": {
   "codemirror_mode": {
    "name": "ipython",
    "version": 3
   },
   "file_extension": ".py",
   "mimetype": "text/x-python",
   "name": "python",
   "nbconvert_exporter": "python",
   "pygments_lexer": "ipython3",
   "version": "3.8.2"
  }
 },
 "nbformat": 4,
 "nbformat_minor": 4
}
