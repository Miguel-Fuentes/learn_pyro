{
 "cells": [
  {
   "cell_type": "markdown",
   "metadata": {},
   "source": [
    "# Infer MLE Params\n",
    "Miguel Fuentes  \n",
    "Created: 5/3/2020  \n",
    "Last Updated: 5/4/2020"
   ]
  },
  {
   "cell_type": "code",
   "execution_count": 2,
   "metadata": {},
   "outputs": [],
   "source": [
    "%matplotlib inline\n",
    "from infection_models import sample_transmission, observe_transmission\n",
    "\n",
    "from tqdm import tqdm\n",
    "from collections import namedtuple\n",
    "import matplotlib.pyplot as plt\n",
    "\n",
    "import torch\n",
    "from torch.distributions import constraints\n",
    "\n",
    "import pyro\n",
    "import pyro.infer\n",
    "import pyro.optim\n",
    "import pyro.distributions as dist\n",
    "\n",
    "pyro.set_rng_seed(101)"
   ]
  },
  {
   "cell_type": "markdown",
   "metadata": {},
   "source": [
    "## Generate Data\n",
    "First, I'll sample from \"sample_transmission\". This model is fully defined so I know what distributions all the paramaters are set to and what all the latent variables are coming from. I will only record the protocol which was used and how many people the individual infected, not the two latent variables."
   ]
  },
  {
   "cell_type": "code",
   "execution_count": 3,
   "metadata": {},
   "outputs": [],
   "source": [
    "n = 1000\n",
    "data = []\n",
    "\n",
    "for _ in range(n):\n",
    "    protocol, contacted_people, infection_rate, num_infected = sample_transmission()\n",
    "    data.append((protocol, num_infected))"
   ]
  },
  {
   "cell_type": "markdown",
   "metadata": {},
   "source": [
    "## VI with Matching Guide\n",
    "First, I will run inference using a guide which has the same form as the actual model, I expect that this should work pretty well and converge to parameters which are equivalent to those for the data generating process"
   ]
  },
  {
   "cell_type": "code",
   "execution_count": 4,
   "metadata": {},
   "outputs": [],
   "source": [
    "def matching_guide(data):\n",
    "    q_normal_contact_loc = pyro.param('q_normal_contact_loc', torch.tensor(50.0), constraint=constraints.positive)\n",
    "    q_normal_contact_scale = pyro.param('q_normal_contact_scale', torch.tensor(10.0), constraint=constraints.positive)\n",
    "    q_normal_conc0 = pyro.param('q_normal_conc0', torch.tensor(10.0), constraint=constraints.positive)\n",
    "    q_normal_conc1 = pyro.param('q_normal_conc1', torch.tensor(10.0), constraint=constraints.positive)\n",
    "\n",
    "    q_distance_contact_loc = pyro.param('q_distance_contact_loc', torch.tensor(25.0), constraint=constraints.positive)\n",
    "    q_distance_contact_scale = pyro.param('q_distance_contact_scale', torch.tensor(5.0), constraint=constraints.positive)\n",
    "    q_distance_conc0 = pyro.param('guide_distance_conc0', torch.tensor(10.0), constraint=constraints.positive)\n",
    "    q_distance_conc1 = pyro.param('guide_distance_conc1', torch.tensor(10.0), constraint=constraints.positive)\n",
    "    \n",
    "    for i, datum in enumerate(data):\n",
    "        protocol, num_infected = datum\n",
    "        if protocol == 'normal_behavior':\n",
    "            contacted_people = pyro.sample(f'contacted_people_{i}', pyro.distributions.Normal(q_normal_contact_loc, q_normal_contact_scale))\n",
    "            infection_rate = pyro.sample(f'infection_rate_{i}', pyro.distributions.Beta(q_normal_conc1, q_normal_conc0))\n",
    "        elif protocol == 'social_distancing':\n",
    "            contacted_people = pyro.sample(f'contacted_people_{i}', pyro.distributions.Normal(q_distance_contact_loc, q_distance_contact_scale))\n",
    "            infection_rate = pyro.sample(f'infection_rate_{i}', pyro.distributions.Beta(q_distance_conc1, q_distance_conc0))\n",
    "        else:\n",
    "            raise ValueError(f'Data point {i} has protocol value {protocol}, expects values \\'social_distancing\\' or \\'normal_behavior\\'')\n"
   ]
  },
  {
   "cell_type": "code",
   "execution_count": 5,
   "metadata": {},
   "outputs": [
    {
     "name": "stderr",
     "output_type": "stream",
     "text": [
      "  1%|▉                                                                                 | 6/500 [00:08<11:24,  1.38s/it]C:\\Users\\Miguel\\.conda\\envs\\pyro\\lib\\site-packages\\pyro\\infer\\trace_elbo.py:138: UserWarning: Encountered NaN: loss\n",
      "  warn_if_nan(loss, \"loss\")\n",
      "100%|████████████████████████████████████████████████████████████████████████████████| 500/500 [09:49<00:00,  1.18s/it]\n"
     ]
    },
    {
     "data": {
      "text/plain": [
       "Text(0, 0.5, 'loss')"
      ]
     },
     "execution_count": 5,
     "metadata": {},
     "output_type": "execute_result"
    },
    {
     "data": {
      "image/png": "[encoded data removed]",
      "text/plain": [
       "<Figure size 432x288 with 1 Axes>"
      ]
     },
     "metadata": {
      "needs_background": "light"
     },
     "output_type": "display_data"
    }
   ],
   "source": [
    "pyro.clear_param_store()\n",
    "svi = pyro.infer.SVI(model=observe_transmission,\n",
    "                     guide=matching_guide,\n",
    "                     optim=pyro.optim.SGD({\"lr\": 0.001, \"momentum\":0.1}),\n",
    "                     loss=pyro.infer.Trace_ELBO())\n",
    "\n",
    "\n",
    "losses = []\n",
    "num_steps =500\n",
    "for _ in tqdm(range(num_steps)):\n",
    "    losses.append(svi.step(data))\n",
    "    \n",
    "\n",
    "plt.plot(losses)\n",
    "plt.title(\"ELBO\")\n",
    "plt.xlabel(\"step\")\n",
    "plt.ylabel(\"loss\")"
   ]
  },
  {
   "cell_type": "code",
   "execution_count": 6,
   "metadata": {},
   "outputs": [
    {
     "data": {
      "text/plain": [
       "[4851.71502828598,\n",
       " 33556.10681915283,\n",
       " 109112.87855768204,\n",
       " 120998.3556470871,\n",
       " 16162.460183143616,\n",
       " 13437752.106362343,\n",
       " nan,\n",
       " nan,\n",
       " nan,\n",
       " nan,\n",
       " nan,\n",
       " nan,\n",
       " nan,\n",
       " nan,\n",
       " nan,\n",
       " nan,\n",
       " nan,\n",
       " nan,\n",
       " nan,\n",
       " nan]"
      ]
     },
     "execution_count": 6,
     "metadata": {},
     "output_type": "execute_result"
    }
   ],
   "source": [
    "losses[:20]"
   ]
  },
  {
   "cell_type": "code",
   "execution_count": null,
   "metadata": {},
   "outputs": [],
   "source": []
  }
 ],
 "metadata": {
  "kernelspec": {
   "display_name": "Python 3",
   "language": "python",
   "name": "python3"
  },
  "language_info": {
   "codemirror_mode": {
    "name": "ipython",
    "version": 3
   },
   "file_extension": ".py",
   "mimetype": "text/x-python",
   "name": "python",
   "nbconvert_exporter": "python",
   "pygments_lexer": "ipython3",
   "version": "3.8.2"
  }
 },
 "nbformat": 4,
 "nbformat_minor": 4
}
